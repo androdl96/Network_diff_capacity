{
 "cells": [
  {
   "cell_type": "code",
   "execution_count": 1,
   "metadata": {},
   "outputs": [],
   "source": [
    "from scipy.spatial import distance\n",
    "import numpy as np\n",
    "from pyvis.network import Network\n",
    "import networkx as nx\n",
    "from IPython.display import HTML\n",
    "from itertools import combinations"
   ]
  },
  {
   "cell_type": "markdown",
   "metadata": {},
   "source": [
    "### functions"
   ]
  },
  {
   "cell_type": "code",
   "execution_count": 94,
   "metadata": {},
   "outputs": [],
   "source": [
    "def get_Pc(P,x):\n",
    "    Pc=np.zeros((len(P)-x+1,))\n",
    "    Pc[0]=np.sum(P[:x])\n",
    "    Pc[1:]=P[x:]\n",
    "    return Pc\n",
    "\n",
    "def calc_CDD(P,Q):\n",
    "    CDD=0\n",
    "    for x in range(len(P)-1):\n",
    "        CDD+=distance.jensenshannon(get_Pc(P,x+1), get_Pc(Q,x+1),base=2.0)\n",
    "    return CDD\n",
    "\n",
    "def calc_Dw(path):\n",
    "    dw=0\n",
    "    for i in range(len(path)-1):\n",
    "        dw+=Dw2[(path[i],path[i+1])]\n",
    "    return dw"
   ]
  },
  {
   "cell_type": "markdown",
   "metadata": {},
   "source": [
    "### Define network\n",
    "* nodes\n",
    "* links between nodes\n",
    "* weights of those links"
   ]
  },
  {
   "cell_type": "code",
   "execution_count": 88,
   "metadata": {},
   "outputs": [],
   "source": [
    "nodes=np.arange(1,5)\n",
    "edge_list=[(1,2),(1,3),(2,3),(3,4)]\n",
    "weights_array=np.array([0.5,1,2,2])"
   ]
  },
  {
   "cell_type": "code",
   "execution_count": 89,
   "metadata": {},
   "outputs": [],
   "source": [
    "Dw_array=weights_array**(-1)"
   ]
  },
  {
   "cell_type": "raw",
   "metadata": {},
   "source": [
    "edges_for_graph=[]\n",
    "for i in range(len(edge_list)):\n",
    "    edges_for_graph.append((edge_list[i][0],edge_list[i][1],weights_array[i]))\n",
    "net = Network()\n",
    "net.add_nodes(nodes) \n",
    "net.add_edges(edges_for_graph)\n",
    "net.show('nodes.html')\n",
    "#display(HTML(\"nodes.html\"))"
   ]
  },
  {
   "cell_type": "code",
   "execution_count": 90,
   "metadata": {},
   "outputs": [],
   "source": [
    "G=nx.Graph()\n",
    "G.add_nodes_from(nodes)\n",
    "G.add_edges_from(edge_list)"
   ]
  },
  {
   "cell_type": "code",
   "execution_count": 91,
   "metadata": {},
   "outputs": [
    {
     "data": {
      "text/plain": [
       "EdgeDataView([(1, 2, {'weight': 0.5, 'Dw': 2.0}), (1, 3, {'weight': 1.0, 'Dw': 1.0}), (2, 3, {'weight': 2.0, 'Dw': 0.5}), (3, 4, {'weight': 2.0, 'Dw': 0.5})])"
      ]
     },
     "execution_count": 91,
     "metadata": {},
     "output_type": "execute_result"
    }
   ],
   "source": [
    "weights={}\n",
    "Dw={}\n",
    "\n",
    "for i in range(len(list(G.edges))):\n",
    "    weights[list(G.edges)[i]]=weights_array[i]\n",
    "    Dw[list(G.edges)[i]]=Dw_array[i]\n",
    "    \n",
    "nx.set_edge_attributes(G, values = weights, name = 'weight')\n",
    "nx.set_edge_attributes(G, values = Dw, name = 'Dw')\n",
    "G.edges(data = True)"
   ]
  },
  {
   "cell_type": "code",
   "execution_count": 92,
   "metadata": {},
   "outputs": [],
   "source": [
    "Dw2=Dw.copy()\n",
    "for key in Dw.keys():\n",
    "    Dw2[(key[1],key[0])]=Dw[(key)]"
   ]
  },
  {
   "cell_type": "code",
   "execution_count": 93,
   "metadata": {},
   "outputs": [
    {
     "data": {
      "image/png": "[encoded data removed]",
      "text/plain": [
       "<Figure size 432x288 with 1 Axes>"
      ]
     },
     "metadata": {},
     "output_type": "display_data"
    }
   ],
   "source": [
    "nx.draw(G, with_labels=True, node_color='lightgreen')"
   ]
  },
  {
   "cell_type": "markdown",
   "metadata": {},
   "source": [
    "### Calculate shortest geodesical and weighted paths for every combination of nodes"
   ]
  },
  {
   "cell_type": "code",
   "execution_count": 52,
   "metadata": {},
   "outputs": [],
   "source": [
    "spaths={}\n",
    "for n_comb in combinations(nodes, 2):\n",
    "    spaths[n_comb]={}\n",
    "    spaths[n_comb]['min_steps']=list(nx.all_shortest_paths(G, source=n_comb[0], target=n_comb[1]))[0]\n",
    "    spaths[n_comb]['Dg']=len(spaths[n_comb]['min_steps'])-1\n",
    "    spaths[n_comb]['min_weight']=list(nx.all_shortest_paths(G, source=n_comb[0], target=n_comb[1],\n",
    "                                                            weight='Dw'))[0]\n",
    "    spaths[n_comb]['Dw']=calc_Dw(spaths[n_comb]['min_weight'])\n",
    "    spaths[n_comb]['delta']=spaths[n_comb]['Dw']/spaths[n_comb]['Dg']"
   ]
  },
  {
   "cell_type": "code",
   "execution_count": 53,
   "metadata": {},
   "outputs": [
    {
     "name": "stdout",
     "output_type": "stream",
     "text": [
      "(1, 2) {'min_steps': [1, 2], 'Dg': 1, 'min_weight': [1, 3, 2], 'Dw': 1.5, 'delta': 1.5}\n",
      "(1, 3) {'min_steps': [1, 3], 'Dg': 1, 'min_weight': [1, 3], 'Dw': 1.0, 'delta': 1.0}\n",
      "(1, 4) {'min_steps': [1, 3, 4], 'Dg': 2, 'min_weight': [1, 3, 4], 'Dw': 1.5, 'delta': 0.75}\n",
      "(2, 3) {'min_steps': [2, 3], 'Dg': 1, 'min_weight': [2, 3], 'Dw': 0.5, 'delta': 0.5}\n",
      "(2, 4) {'min_steps': [2, 3, 4], 'Dg': 2, 'min_weight': [2, 3, 4], 'Dw': 1.0, 'delta': 0.5}\n",
      "(3, 4) {'min_steps': [3, 4], 'Dg': 1, 'min_weight': [3, 4], 'Dw': 0.5, 'delta': 0.5}\n"
     ]
    }
   ],
   "source": [
    "for key in spaths.keys():\n",
    "    print(key,spaths[key])"
   ]
  },
  {
   "cell_type": "markdown",
   "metadata": {},
   "source": [
    "### Calculate dynamic node distance distributions"
   ]
  },
  {
   "cell_type": "code",
   "execution_count": 79,
   "metadata": {},
   "outputs": [],
   "source": [
    "Pi={}\n",
    "for node in nodes:\n",
    "    Pi[node]=np.zeros(3*len(nodes)-2)\n",
    "\n",
    "V_1=len(nodes)-1\n",
    "for pair_node in spaths.keys():\n",
    "    node1=pair_node[0]\n",
    "    node2=pair_node[1]\n",
    "    delta=spaths[pair_node]['delta']\n",
    "    i = 3*(spaths[pair_node]['Dg']-1)\n",
    "    T1=max(1-delta,0)\n",
    "    T2=min(delta,(1/delta))\n",
    "    T3=max(1-(1/delta),0)\n",
    "    Pi[node1][i]+=T1\n",
    "    Pi[node2][i]+=T1\n",
    "    Pi[node1][i+1]+=T2\n",
    "    Pi[node2][i+1]+=T2\n",
    "    Pi[node1][i+2]+=T3\n",
    "    Pi[node2][i+2]+=T3\n",
    "    \n",
    "for key in Pi.keys():\n",
    "    Pi[key]/=V_1"
   ]
  },
  {
   "cell_type": "code",
   "execution_count": 80,
   "metadata": {},
   "outputs": [
    {
     "name": "stdout",
     "output_type": "stream",
     "text": [
      "[1. 0. 0. 0. 0. 0. 0. 0. 0. 0.]\n"
     ]
    }
   ],
   "source": [
    "Pref=np.zeros(3*len(nodes)-2)\n",
    "Pref[0]=1\n",
    "print(Pref)"
   ]
  },
  {
   "cell_type": "markdown",
   "metadata": {},
   "source": [
    "### Calculate diffusion capacity for every node"
   ]
  },
  {
   "cell_type": "code",
   "execution_count": 86,
   "metadata": {},
   "outputs": [
    {
     "data": {
      "text/plain": [
       "{1: 0.42981074417416176,\n",
       " 2: 0.4848584102543523,\n",
       " 3: 1.4757870353259503,\n",
       " 4: 0.3755460156540167}"
      ]
     },
     "execution_count": 86,
     "metadata": {},
     "output_type": "execute_result"
    }
   ],
   "source": [
    "diff_cap={}\n",
    "for node in nodes:\n",
    "    diff_cap[node]=(1/calc_CDD(Pi[node],Pref))\n",
    "    \n",
    "diff_cap"
   ]
  },
  {
   "cell_type": "code",
   "execution_count": null,
   "metadata": {},
   "outputs": [],
   "source": []
  }
 ],
 "metadata": {
  "kernelspec": {
   "display_name": "Python 3",
   "language": "python",
   "name": "python3"
  },
  "language_info": {
   "codemirror_mode": {
    "name": "ipython",
    "version": 3
   },
   "file_extension": ".py",
   "mimetype": "text/x-python",
   "name": "python",
   "nbconvert_exporter": "python",
   "pygments_lexer": "ipython3",
   "version": "3.8.10"
  }
 },
 "nbformat": 4,
 "nbformat_minor": 4
}
